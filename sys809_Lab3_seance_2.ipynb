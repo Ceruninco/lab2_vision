{
 "cells": [
  {
   "cell_type": "markdown",
   "metadata": {},
   "source": [
    "# Lab 3 Vision par ordinateur : Apprentissage profond"
   ]
  },
  {
   "cell_type": "markdown",
   "metadata": {},
   "source": [
    "Clara MACABIAU et Julien NICOLAS"
   ]
  },
  {
   "cell_type": "markdown",
   "metadata": {},
   "source": [
    "## Séance 2 : Utilisation des architectures pré-entraînées"
   ]
  },
  {
   "attachments": {
    "image.png": {
     "image/png": "[encoded data removed]"
    }
   },
   "cell_type": "markdown",
   "metadata": {},
   "source": [
    "Une approche courante et très efficace de l'apprentissage profond consiste à conserver une partie d'un réseau de neurones pré-entrainé. Un réseau pré-entrainé est simplement un réseau entrainé sur une grande base données, généralement sur une tâche de classification d'images à grande échelle.\n",
    "\n",
    "Si cette base de données utilisée est assez grande et assez générale, alors la hiérarchie des caractéristiques spatiales apprise par le réseau pré-entrainé peut effectivement agir comme un modèle générique de notre monde visuel, et donc ses caractéristiques peuvent s'avérer utiles pour de nombreux problèmes de vision par ordinateur différents, même si ces nouveaux problèmes puissent impliquer des classes complètement différentes.\n",
    "\n",
    "Dans notre cas, nous considérerons un grand convnet entrainé sur la base de données ImageNet (1,4 million d'images étiquetées et 1000 classes différentes).\n",
    "\n",
    "Nous utiliserons l'architecture VGG16, développée par Karen Simonyan et Andrew Zisserman en 2014, une architecture convnet simple et largement utilisée.\n",
    "\n",
    "C'est un modèle un peu plus ancien, loin de l'état de l'art actuel mais nous l'avons choisi car son architecture est facile à comprendre sans introduire de nouveaux concepts.\n",
    "\n",
    "Le modèle VGG16 est donné dans le framework Keras. Vous pouvez l'importer depuis le module `keras.applications`. Voici la liste quelques modèles pré-entrainé sur ImageNet fournit par Keras:\n",
    "* Xception\n",
    "* InceptionV3\n",
    "* ResNet50\n",
    "* VGG16\n",
    "* VGG19\n",
    "* MobileNet\n",
    "\n",
    "Il existe deux façons d'exploiter un réseau pré-entrainé :\n",
    "- Utiliser ce réseau comme un extracteur de caractéristiques.\n",
    "- Adapter une partie de ce réseau par un petit entrainement. \n",
    "\n",
    "![image.png](attachment:image.png)\n",
    "![source] https://www.researchgate.net/figure/TOP-LEVEL-DIAGRAM-OF-TRANSFER-LEARNING-FROM-A-PRE-TRAINED-CNN-MODEL_fig4_333882146"
   ]
  },
  {
   "cell_type": "markdown",
   "metadata": {},
   "source": [
    "## Partie 1 : Extraction de caractéristiques "
   ]
  },
  {
   "cell_type": "markdown",
   "metadata": {},
   "source": [
    "Cette technique consiste à utiliser la partie d'extraction de caractéristiques \" `conv_base` \" du CNN. \n"
   ]
  },
  {
   "cell_type": "code",
   "execution_count": 2,
   "metadata": {},
   "outputs": [
    {
     "data": {
      "text/plain": [
       "'2.6.0'"
      ]
     },
     "execution_count": 2,
     "metadata": {},
     "output_type": "execute_result"
    }
   ],
   "source": [
    "import tensorflow as tf\n",
    "import os\n",
    "#os.environ[\"CUDA_VISIBLE_DEVICES\"]=\"-1\"  #disables GPU \n",
    "import matplotlib.pyplot as plt\n",
    "import numpy as np\n",
    "tf.__version__"
   ]
  },
  {
   "cell_type": "code",
   "execution_count": 3,
   "metadata": {},
   "outputs": [
    {
     "name": "stdout",
     "output_type": "stream",
     "text": [
      "[name: \"/device:CPU:0\"\n",
      "device_type: \"CPU\"\n",
      "memory_limit: 268435456\n",
      "locality {\n",
      "}\n",
      "incarnation: 16833672590892909016\n",
      ", name: \"/device:GPU:0\"\n",
      "device_type: \"GPU\"\n",
      "memory_limit: 6469084774\n",
      "locality {\n",
      "  bus_id: 1\n",
      "  links {\n",
      "  }\n",
      "}\n",
      "incarnation: 4181117539412420470\n",
      "physical_device_desc: \"device: 0, name: NVIDIA GeForce GTX 1080, pci bus id: 0000:01:00.0, compute capability: 6.1\"\n",
      "]\n"
     ]
    }
   ],
   "source": [
    "from tensorflow.python.client import device_lib\n",
    "print(device_lib.list_local_devices())"
   ]
  },
  {
   "cell_type": "code",
   "execution_count": 4,
   "metadata": {},
   "outputs": [
    {
     "name": "stdout",
     "output_type": "stream",
     "text": [
      "Downloading data from https://storage.googleapis.com/tensorflow/keras-applications/vgg16/vgg16_weights_tf_dim_ordering_tf_kernels_notop.h5\n",
      "58892288/58889256 [==============================] - 1s 0us/step\n"
     ]
    }
   ],
   "source": [
    "from tensorflow.keras.applications import VGG16\n",
    "\n",
    "conv_base = VGG16(weights='imagenet',\n",
    "                  include_top=False,\n",
    "                  input_shape=(224, 224, 3))"
   ]
  },
  {
   "cell_type": "code",
   "execution_count": 5,
   "metadata": {},
   "outputs": [
    {
     "name": "stdout",
     "output_type": "stream",
     "text": [
      "Model: \"vgg16\"\n",
      "_________________________________________________________________\n",
      "Layer (type)                 Output Shape              Param #   \n",
      "=================================================================\n",
      "input_1 (InputLayer)         [(None, 224, 224, 3)]     0         \n",
      "_________________________________________________________________\n",
      "block1_conv1 (Conv2D)        (None, 224, 224, 64)      1792      \n",
      "_________________________________________________________________\n",
      "block1_conv2 (Conv2D)        (None, 224, 224, 64)      36928     \n",
      "_________________________________________________________________\n",
      "block1_pool (MaxPooling2D)   (None, 112, 112, 64)      0         \n",
      "_________________________________________________________________\n",
      "block2_conv1 (Conv2D)        (None, 112, 112, 128)     73856     \n",
      "_________________________________________________________________\n",
      "block2_conv2 (Conv2D)        (None, 112, 112, 128)     147584    \n",
      "_________________________________________________________________\n",
      "block2_pool (MaxPooling2D)   (None, 56, 56, 128)       0         \n",
      "_________________________________________________________________\n",
      "block3_conv1 (Conv2D)        (None, 56, 56, 256)       295168    \n",
      "_________________________________________________________________\n",
      "block3_conv2 (Conv2D)        (None, 56, 56, 256)       590080    \n",
      "_________________________________________________________________\n",
      "block3_conv3 (Conv2D)        (None, 56, 56, 256)       590080    \n",
      "_________________________________________________________________\n",
      "block3_pool (MaxPooling2D)   (None, 28, 28, 256)       0         \n",
      "_________________________________________________________________\n",
      "block4_conv1 (Conv2D)        (None, 28, 28, 512)       1180160   \n",
      "_________________________________________________________________\n",
      "block4_conv2 (Conv2D)        (None, 28, 28, 512)       2359808   \n",
      "_________________________________________________________________\n",
      "block4_conv3 (Conv2D)        (None, 28, 28, 512)       2359808   \n",
      "_________________________________________________________________\n",
      "block4_pool (MaxPooling2D)   (None, 14, 14, 512)       0         \n",
      "_________________________________________________________________\n",
      "block5_conv1 (Conv2D)        (None, 14, 14, 512)       2359808   \n",
      "_________________________________________________________________\n",
      "block5_conv2 (Conv2D)        (None, 14, 14, 512)       2359808   \n",
      "_________________________________________________________________\n",
      "block5_conv3 (Conv2D)        (None, 14, 14, 512)       2359808   \n",
      "_________________________________________________________________\n",
      "block5_pool (MaxPooling2D)   (None, 7, 7, 512)         0         \n",
      "=================================================================\n",
      "Total params: 14,714,688\n",
      "Trainable params: 0\n",
      "Non-trainable params: 14,714,688\n",
      "_________________________________________________________________\n"
     ]
    }
   ],
   "source": [
    "conv_base.trainable = False # l'entrainement va pas affecter cette partie\n",
    "conv_base.summary()"
   ]
  },
  {
   "cell_type": "markdown",
   "metadata": {},
   "source": [
    "La dernière couche est une couche de pooling de forme (4,4,512), c'est à partir de cette couche qu'on va coller un un perceptron multicouche pour la classification."
   ]
  },
  {
   "cell_type": "markdown",
   "metadata": {},
   "source": [
    "### Exercice 1 :\n",
    "\n",
    "1- Ajouter une couche de flatten et un perceptron multicouche (à vous de choisir les hyper-paramétres : nombre de couches, nombre de neurones dans chaque couche, fonction d'activation).\n",
    "\n",
    "(indice: \n",
    "model = models.Sequential()\n",
    "\n",
    "model.add(conv_base)\n",
    "\n",
    "model.add(layers.Flatten())\n",
    ")\n",
    "\n",
    "2 - Faire le preprocessing des données mini-caltech101 pour que vos images soient preprocess de la même façon qu'elles l'étaient lors de l'entraînement de VGG16\n",
    "\n",
    "voir https://www.tensorflow.org/api_docs/python/tf/keras/applications/vgg16/preprocess_input, prêter attention à l'input range des images de cette fonction.\n",
    "   \n",
    "3- Faire l'entrainement sur  avec un lr=1e-5 pendant 20 époques.\n",
    "    \n",
    "4- Tracer les courbes de précision et d'erreur et comparer les résultats obtenus avec les résultats du lab\n",
    "précedent. \n",
    "\n"
   ]
  },
  {
   "cell_type": "code",
   "execution_count": 6,
   "metadata": {},
   "outputs": [],
   "source": [
    "\n",
    "\n",
    "from tensorflow.keras import models\n",
    "from tensorflow.keras import layers\n",
    "\n",
    "model = models.Sequential()\n",
    "\n",
    "model.add(conv_base)\n",
    "\n",
    "model.add(layers.Flatten())\n",
    "model.add(layers.Dense(512, activation='relu', input_shape=(7* 7,)))\n",
    "model.add(layers.Dense(512, activation='relu', input_shape=(7* 7,)))\n",
    "\n",
    "model.add(layers.Dense(512, activation='relu', input_shape=(7* 7,)))\n",
    "model.add(layers.Dense(10, activation='softmax'))\n",
    "\n"
   ]
  },
  {
   "cell_type": "code",
   "execution_count": 7,
   "metadata": {},
   "outputs": [],
   "source": [
    "\n",
    "\n",
    "import os\n",
    "import cv2\n",
    "import numpy as np\n",
    "\n",
    "def load_data (data_path,img_shape):\n",
    "    data_dir_list = os.listdir(data_path)\n",
    "    img_rows=img_shape[0]\n",
    "    img_cols=img_shape[1]\n",
    "    num_channel=img_shape[2]\n",
    "\n",
    "\n",
    "    labels=[]\n",
    "    data=[]\n",
    "    len_list_img=0\n",
    "    num_class=0\n",
    "    for dataset in data_dir_list:\n",
    "        img_list=os.listdir(data_path+'/'+ dataset)    \n",
    "        for img in img_list:\n",
    "            input_img=cv2.imread(data_path + '/'+ dataset + '/'+ img )\n",
    "            input_img=cv2.resize(input_img,(img_rows,img_cols))\n",
    "            input_img = tf.keras.applications.vgg16.preprocess_input(input_img, data_format=None)\n",
    "            data.append(input_img)\n",
    "            labels.append(num_class)\n",
    "        num_class+=1\n",
    "\n",
    "    data = np.array(data)\n",
    "    data = data.astype('float32')\n",
    "    data /= 255\n",
    "    labels=np.array(labels)\n",
    "    print('data shape',data.shape)\n",
    "    print('labels shape',labels.shape)\n",
    "    return data, labels\n",
    "\n"
   ]
  },
  {
   "cell_type": "code",
   "execution_count": 9,
   "metadata": {},
   "outputs": [
    {
     "name": "stdout",
     "output_type": "stream",
     "text": [
      "data shape (500, 224, 224, 3)\n",
      "labels shape (500,)\n"
     ]
    }
   ],
   "source": [
    "\n",
    "\n",
    "data_path='mini_Caltech101'\n",
    "img_shape=[224,224,3]\n",
    "data, labels=load_data (data_path,img_shape)\n",
    "\n"
   ]
  },
  {
   "cell_type": "code",
   "execution_count": 10,
   "metadata": {},
   "outputs": [],
   "source": [
    "from sklearn.utils import shuffle\n",
    "from sklearn.model_selection import train_test_split\n",
    "from tensorflow.keras.utils import to_categorical\n",
    "from tensorflow.keras.preprocessing.image import ImageDataGenerator\n",
    "num_classes=10\n",
    "Y = to_categorical(labels, num_classes)\n",
    "X_train,y_train = shuffle(data,Y, random_state=2)\n",
    "X_train, X_test, y_train , y_test = train_test_split(X_train,y_train, test_size=0.3, random_state=2)"
   ]
  },
  {
   "cell_type": "code",
   "execution_count": 11,
   "metadata": {},
   "outputs": [],
   "source": [
    "from tensorflow.keras.optimizers import SGD,RMSprop,Adam"
   ]
  },
  {
   "cell_type": "code",
   "execution_count": 12,
   "metadata": {},
   "outputs": [
    {
     "name": "stdout",
     "output_type": "stream",
     "text": [
      "Model: \"sequential\"\n",
      "_________________________________________________________________\n",
      "Layer (type)                 Output Shape              Param #   \n",
      "=================================================================\n",
      "vgg16 (Functional)           (None, 7, 7, 512)         14714688  \n",
      "_________________________________________________________________\n",
      "flatten (Flatten)            (None, 25088)             0         \n",
      "_________________________________________________________________\n",
      "dense (Dense)                (None, 512)               12845568  \n",
      "_________________________________________________________________\n",
      "dense_1 (Dense)              (None, 512)               262656    \n",
      "_________________________________________________________________\n",
      "dense_2 (Dense)              (None, 512)               262656    \n",
      "_________________________________________________________________\n",
      "dense_3 (Dense)              (None, 10)                5130      \n",
      "=================================================================\n",
      "Total params: 28,090,698\n",
      "Trainable params: 13,376,010\n",
      "Non-trainable params: 14,714,688\n",
      "_________________________________________________________________\n"
     ]
    }
   ],
   "source": [
    "\n",
    "sgd = SGD(learning_rate=1e-5, decay=1e-6, momentum=0.9, nesterov=True)\n",
    "model.compile(loss='categorical_crossentropy', optimizer=sgd,metrics=[\"accuracy\"])\n",
    "model.summary()"
   ]
  },
  {
   "cell_type": "code",
   "execution_count": 13,
   "metadata": {},
   "outputs": [
    {
     "name": "stdout",
     "output_type": "stream",
     "text": [
      "Epoch 1/20\n",
      "24/24 [==============================] - 21s 137ms/step - loss: 2.3482 - accuracy: 0.1143 - val_loss: 2.3327 - val_accuracy: 0.1200\n",
      "Epoch 2/20\n",
      "24/24 [==============================] - 2s 79ms/step - loss: 2.2876 - accuracy: 0.1457 - val_loss: 2.2775 - val_accuracy: 0.1467\n",
      "Epoch 3/20\n",
      "24/24 [==============================] - 2s 79ms/step - loss: 2.2322 - accuracy: 0.2086 - val_loss: 2.2233 - val_accuracy: 0.2067\n",
      "Epoch 4/20\n",
      "24/24 [==============================] - 2s 79ms/step - loss: 2.1803 - accuracy: 0.2829 - val_loss: 2.1794 - val_accuracy: 0.3067\n",
      "Epoch 5/20\n",
      "24/24 [==============================] - 2s 79ms/step - loss: 2.1340 - accuracy: 0.3514 - val_loss: 2.1361 - val_accuracy: 0.3400\n",
      "Epoch 6/20\n",
      "24/24 [==============================] - 2s 79ms/step - loss: 2.0902 - accuracy: 0.4229 - val_loss: 2.0964 - val_accuracy: 0.3733\n",
      "Epoch 7/20\n",
      "24/24 [==============================] - 2s 79ms/step - loss: 2.0507 - accuracy: 0.4857 - val_loss: 2.0595 - val_accuracy: 0.4533\n",
      "Epoch 8/20\n",
      "24/24 [==============================] - 2s 79ms/step - loss: 2.0139 - accuracy: 0.5143 - val_loss: 2.0243 - val_accuracy: 0.5000\n",
      "Epoch 9/20\n",
      "24/24 [==============================] - 2s 79ms/step - loss: 1.9777 - accuracy: 0.5714 - val_loss: 1.9920 - val_accuracy: 0.5467\n",
      "Epoch 10/20\n",
      "24/24 [==============================] - 2s 79ms/step - loss: 1.9437 - accuracy: 0.6429 - val_loss: 1.9591 - val_accuracy: 0.6333\n",
      "Epoch 11/20\n",
      "24/24 [==============================] - 2s 79ms/step - loss: 1.9089 - accuracy: 0.6771 - val_loss: 1.9290 - val_accuracy: 0.6333\n",
      "Epoch 12/20\n",
      "24/24 [==============================] - 2s 79ms/step - loss: 1.8767 - accuracy: 0.6886 - val_loss: 1.8970 - val_accuracy: 0.6667\n",
      "Epoch 13/20\n",
      "24/24 [==============================] - 2s 78ms/step - loss: 1.8442 - accuracy: 0.7229 - val_loss: 1.8675 - val_accuracy: 0.7000\n",
      "Epoch 14/20\n",
      "24/24 [==============================] - 2s 76ms/step - loss: 1.8113 - accuracy: 0.7600 - val_loss: 1.8370 - val_accuracy: 0.7667\n",
      "Epoch 15/20\n",
      "24/24 [==============================] - 2s 77ms/step - loss: 1.7805 - accuracy: 0.7829 - val_loss: 1.8074 - val_accuracy: 0.7733\n",
      "Epoch 16/20\n",
      "24/24 [==============================] - 2s 75ms/step - loss: 1.7485 - accuracy: 0.8086 - val_loss: 1.7778 - val_accuracy: 0.8200\n",
      "Epoch 17/20\n",
      "24/24 [==============================] - 2s 75ms/step - loss: 1.7193 - accuracy: 0.8229 - val_loss: 1.7481 - val_accuracy: 0.8333\n",
      "Epoch 18/20\n",
      "24/24 [==============================] - 2s 76ms/step - loss: 1.6879 - accuracy: 0.8429 - val_loss: 1.7200 - val_accuracy: 0.8200\n",
      "Epoch 19/20\n",
      "24/24 [==============================] - 2s 78ms/step - loss: 1.6584 - accuracy: 0.8457 - val_loss: 1.6918 - val_accuracy: 0.8400\n",
      "Epoch 20/20\n",
      "24/24 [==============================] - 2s 76ms/step - loss: 1.6288 - accuracy: 0.8657 - val_loss: 1.6639 - val_accuracy: 0.8600\n"
     ]
    }
   ],
   "source": [
    "n_epoch=20\n",
    "hist = model.fit(X_train, y_train, batch_size=15, epochs=n_epoch, verbose=1, validation_data=(X_test, y_test))"
   ]
  },
  {
   "cell_type": "code",
   "execution_count": 14,
   "metadata": {},
   "outputs": [
    {
     "data": {
      "image/png": "[encoded data removed]",
      "text/plain": [
       "<Figure size 504x360 with 1 Axes>"
      ]
     },
     "metadata": {
      "needs_background": "light"
     },
     "output_type": "display_data"
    },
    {
     "data": {
      "image/png": "[encoded data removed]",
      "text/plain": [
       "<Figure size 560x400 with 1 Axes>"
      ]
     },
     "metadata": {},
     "output_type": "display_data"
    }
   ],
   "source": [
    "# visualizing losses and accuracy\n",
    "train_loss=hist.history['loss']\n",
    "val_loss=hist.history['val_loss']\n",
    "train_acc=hist.history['accuracy']\n",
    "val_acc=hist.history['val_accuracy']\n",
    "xc=range(n_epoch)\n",
    "\n",
    "plt.figure(1,figsize=(7,5))\n",
    "plt.plot(xc,train_loss)\n",
    "plt.plot(xc,val_loss)\n",
    "plt.xlabel('num of Epochs')\n",
    "plt.ylabel('loss')\n",
    "plt.title('train_loss vs val_loss')\n",
    "plt.grid(True)\n",
    "plt.legend(['train','val'])\n",
    "plt.style.use(['classic'])\n",
    "\n",
    "plt.figure(2,figsize=(7,5))\n",
    "plt.plot(xc,train_acc)\n",
    "plt.plot(xc,val_acc)\n",
    "plt.xlabel('num of Epochs')\n",
    "plt.ylabel('accuracy')\n",
    "plt.title('train_acc vs val_acc')\n",
    "plt.grid(True)\n",
    "plt.legend(['train','val'],loc=4)\n",
    "plt.style.use(['classic'])"
   ]
  },
  {
   "cell_type": "markdown",
   "metadata": {},
   "source": [
    "## Partie 2 : Adaptation d'un CNN pré-entraîné   \n",
    "\n",
    "Dans cette partie, on va faire un petit réglage pour quelques couches de convolution de notre modèle. Cette méthode ajuste légèrement les représentations les plus abstraites du modèle réutilisé, afin de les rendre plus pertinentes pour le problème en question.\n"
   ]
  },
  {
   "cell_type": "markdown",
   "metadata": {},
   "source": []
  },
  {
   "cell_type": "code",
   "execution_count": 15,
   "metadata": {},
   "outputs": [
    {
     "name": "stdout",
     "output_type": "stream",
     "text": [
      "Model: \"vgg16\"\n",
      "_________________________________________________________________\n",
      "Layer (type)                 Output Shape              Param #   \n",
      "=================================================================\n",
      "input_1 (InputLayer)         [(None, 224, 224, 3)]     0         \n",
      "_________________________________________________________________\n",
      "block1_conv1 (Conv2D)        (None, 224, 224, 64)      1792      \n",
      "_________________________________________________________________\n",
      "block1_conv2 (Conv2D)        (None, 224, 224, 64)      36928     \n",
      "_________________________________________________________________\n",
      "block1_pool (MaxPooling2D)   (None, 112, 112, 64)      0         \n",
      "_________________________________________________________________\n",
      "block2_conv1 (Conv2D)        (None, 112, 112, 128)     73856     \n",
      "_________________________________________________________________\n",
      "block2_conv2 (Conv2D)        (None, 112, 112, 128)     147584    \n",
      "_________________________________________________________________\n",
      "block2_pool (MaxPooling2D)   (None, 56, 56, 128)       0         \n",
      "_________________________________________________________________\n",
      "block3_conv1 (Conv2D)        (None, 56, 56, 256)       295168    \n",
      "_________________________________________________________________\n",
      "block3_conv2 (Conv2D)        (None, 56, 56, 256)       590080    \n",
      "_________________________________________________________________\n",
      "block3_conv3 (Conv2D)        (None, 56, 56, 256)       590080    \n",
      "_________________________________________________________________\n",
      "block3_pool (MaxPooling2D)   (None, 28, 28, 256)       0         \n",
      "_________________________________________________________________\n",
      "block4_conv1 (Conv2D)        (None, 28, 28, 512)       1180160   \n",
      "_________________________________________________________________\n",
      "block4_conv2 (Conv2D)        (None, 28, 28, 512)       2359808   \n",
      "_________________________________________________________________\n",
      "block4_conv3 (Conv2D)        (None, 28, 28, 512)       2359808   \n",
      "_________________________________________________________________\n",
      "block4_pool (MaxPooling2D)   (None, 14, 14, 512)       0         \n",
      "_________________________________________________________________\n",
      "block5_conv1 (Conv2D)        (None, 14, 14, 512)       2359808   \n",
      "_________________________________________________________________\n",
      "block5_conv2 (Conv2D)        (None, 14, 14, 512)       2359808   \n",
      "_________________________________________________________________\n",
      "block5_conv3 (Conv2D)        (None, 14, 14, 512)       2359808   \n",
      "_________________________________________________________________\n",
      "block5_pool (MaxPooling2D)   (None, 7, 7, 512)         0         \n",
      "=================================================================\n",
      "Total params: 14,714,688\n",
      "Trainable params: 0\n",
      "Non-trainable params: 14,714,688\n",
      "_________________________________________________________________\n"
     ]
    }
   ],
   "source": [
    "conv_base.summary()"
   ]
  },
  {
   "cell_type": "markdown",
   "metadata": {},
   "source": [
    "\n",
    "Les étapes suivantes résument cet algorithme :\n",
    "\n",
    "1- Ajouter un perceptron multicouche.\n",
    "\n",
    "2- Débloquer quelques couches de la base de convolution. \n",
    "\n",
    "3- Faire l'entrainement. \n",
    "\n",
    "Par exemple, on va débloquer les couches qui suivent `block4_pool` et laisser les autres bloquées. C'est à dire, les couches `block5_conv1`, `block5_conv2` et `block5_conv3` vont être modifiées lors de l'entrainement."
   ]
  },
  {
   "cell_type": "code",
   "execution_count": 20,
   "metadata": {},
   "outputs": [],
   "source": [
    "conv_base.trainable = True\n",
    "\n",
    "set_trainable = False\n",
    "for layer in conv_base.layers:\n",
    "    if layer.name == 'block5_conv1' or layer.name == 'block5_conv2' or layer.name == 'block5_conv3':\n",
    "        set_trainable = True\n",
    "    if set_trainable:\n",
    "        layer.trainable = True\n",
    "    else:\n",
    "        layer.trainable = False"
   ]
  },
  {
   "cell_type": "code",
   "execution_count": 21,
   "metadata": {},
   "outputs": [],
   "source": [
    "model2 = models.Sequential()\n",
    "\n",
    "model2.add(conv_base)\n",
    "\n",
    "model2.add(layers.Flatten())\n",
    "model2.add(layers.Dense(512, activation='relu', input_shape=(7* 7,)))\n",
    "model2.add(layers.Dense(512, activation='relu', input_shape=(7* 7,)))\n",
    "\n",
    "model2.add(layers.Dense(512, activation='relu', input_shape=(7* 7,)))\n",
    "model2.add(layers.Dense(10, activation='softmax'))"
   ]
  },
  {
   "cell_type": "code",
   "execution_count": 22,
   "metadata": {},
   "outputs": [
    {
     "name": "stdout",
     "output_type": "stream",
     "text": [
      "Epoch 1/20\n",
      "24/24 [==============================] - 3s 104ms/step - loss: 2.3824 - accuracy: 0.1086 - val_loss: 2.3407 - val_accuracy: 0.1200\n",
      "Epoch 2/20\n",
      "24/24 [==============================] - 2s 96ms/step - loss: 2.2926 - accuracy: 0.1457 - val_loss: 2.2657 - val_accuracy: 0.1533\n",
      "Epoch 3/20\n",
      "24/24 [==============================] - 2s 93ms/step - loss: 2.2131 - accuracy: 0.2086 - val_loss: 2.2032 - val_accuracy: 0.2067\n",
      "Epoch 4/20\n",
      "24/24 [==============================] - 2s 96ms/step - loss: 2.1429 - accuracy: 0.3143 - val_loss: 2.1417 - val_accuracy: 0.3133\n",
      "Epoch 5/20\n",
      "24/24 [==============================] - 2s 96ms/step - loss: 2.0791 - accuracy: 0.3800 - val_loss: 2.0871 - val_accuracy: 0.4067\n",
      "Epoch 6/20\n",
      "24/24 [==============================] - 2s 97ms/step - loss: 2.0174 - accuracy: 0.5171 - val_loss: 2.0307 - val_accuracy: 0.5067\n",
      "Epoch 7/20\n",
      "24/24 [==============================] - 2s 96ms/step - loss: 1.9581 - accuracy: 0.6000 - val_loss: 1.9785 - val_accuracy: 0.5467\n",
      "Epoch 8/20\n",
      "24/24 [==============================] - 2s 93ms/step - loss: 1.8987 - accuracy: 0.6971 - val_loss: 1.9227 - val_accuracy: 0.6333\n",
      "Epoch 9/20\n",
      "24/24 [==============================] - 2s 93ms/step - loss: 1.8406 - accuracy: 0.7343 - val_loss: 1.8676 - val_accuracy: 0.6867\n",
      "Epoch 10/20\n",
      "24/24 [==============================] - 2s 93ms/step - loss: 1.7836 - accuracy: 0.7943 - val_loss: 1.8138 - val_accuracy: 0.7267\n",
      "Epoch 11/20\n",
      "24/24 [==============================] - 2s 92ms/step - loss: 1.7253 - accuracy: 0.8257 - val_loss: 1.7583 - val_accuracy: 0.7933\n",
      "Epoch 12/20\n",
      "24/24 [==============================] - 2s 92ms/step - loss: 1.6681 - accuracy: 0.8686 - val_loss: 1.7028 - val_accuracy: 0.8067\n",
      "Epoch 13/20\n",
      "24/24 [==============================] - 2s 93ms/step - loss: 1.6095 - accuracy: 0.8943 - val_loss: 1.6499 - val_accuracy: 0.8533\n",
      "Epoch 14/20\n",
      "24/24 [==============================] - 2s 92ms/step - loss: 1.5521 - accuracy: 0.8971 - val_loss: 1.5949 - val_accuracy: 0.8667\n",
      "Epoch 15/20\n",
      "24/24 [==============================] - 2s 92ms/step - loss: 1.4950 - accuracy: 0.9200 - val_loss: 1.5403 - val_accuracy: 0.8733\n",
      "Epoch 16/20\n",
      "24/24 [==============================] - 2s 92ms/step - loss: 1.4382 - accuracy: 0.9229 - val_loss: 1.4857 - val_accuracy: 0.9067\n",
      "Epoch 17/20\n",
      "24/24 [==============================] - 2s 92ms/step - loss: 1.3796 - accuracy: 0.9286 - val_loss: 1.4310 - val_accuracy: 0.9200\n",
      "Epoch 18/20\n",
      "24/24 [==============================] - 2s 93ms/step - loss: 1.3228 - accuracy: 0.9429 - val_loss: 1.3758 - val_accuracy: 0.9267\n",
      "Epoch 19/20\n",
      "24/24 [==============================] - 2s 94ms/step - loss: 1.2645 - accuracy: 0.9429 - val_loss: 1.3226 - val_accuracy: 0.9267\n",
      "Epoch 20/20\n",
      "24/24 [==============================] - 2s 94ms/step - loss: 1.2071 - accuracy: 0.9457 - val_loss: 1.2674 - val_accuracy: 0.9333\n"
     ]
    }
   ],
   "source": [
    "n_epoch=20\n",
    "sgd = SGD(learning_rate=1e-5, decay=1e-6, momentum=0.9, nesterov=True)\n",
    "model2.compile(loss='categorical_crossentropy', optimizer=sgd,metrics=[\"accuracy\"])\n",
    "\n",
    "hist = model2.fit(X_train, y_train, batch_size=15, epochs=n_epoch, verbose=1, validation_data=(X_test, y_test))"
   ]
  },
  {
   "cell_type": "code",
   "execution_count": 23,
   "metadata": {},
   "outputs": [
    {
     "data": {
      "image/png": "[encoded data removed]",
      "text/plain": [
       "<Figure size 560x400 with 1 Axes>"
      ]
     },
     "metadata": {},
     "output_type": "display_data"
    },
    {
     "data": {
      "image/png": "[encoded data removed]",
      "text/plain": [
       "<Figure size 560x400 with 1 Axes>"
      ]
     },
     "metadata": {},
     "output_type": "display_data"
    }
   ],
   "source": [
    "train_loss=hist.history['loss']\n",
    "val_loss=hist.history['val_loss']\n",
    "train_acc=hist.history['accuracy']\n",
    "val_acc=hist.history['val_accuracy']\n",
    "xc=range(n_epoch)\n",
    "\n",
    "plt.figure(1,figsize=(7,5))\n",
    "plt.plot(xc,train_loss)\n",
    "plt.plot(xc,val_loss)\n",
    "plt.xlabel('num of Epochs')\n",
    "plt.ylabel('loss')\n",
    "plt.title('train_loss vs val_loss')\n",
    "plt.grid(True)\n",
    "plt.legend(['train','val'])\n",
    "plt.style.use(['classic'])\n",
    "\n",
    "plt.figure(2,figsize=(7,5))\n",
    "plt.plot(xc,train_acc)\n",
    "plt.plot(xc,val_acc)\n",
    "plt.xlabel('num of Epochs')\n",
    "plt.ylabel('accuracy')\n",
    "plt.title('train_acc vs val_acc')\n",
    "plt.grid(True)\n",
    "plt.legend(['train','val'],loc=4)\n",
    "plt.style.use(['classic'])"
   ]
  },
  {
   "cell_type": "markdown",
   "metadata": {},
   "source": [
    "### Exercice 2:\n",
    "\n",
    "1- Réaliser l'entrainement du CNN pré-entrainé adapté sur mini-caltech101 (lr=1e-5, 20 époques). \n",
    "\n",
    "2- Comparer les résultats obtenus avec les résultats de l'exercice 1. \n",
    "\n",
    "3- Expliquer pourquoi on utilise un lr (learning rate) faible.\n",
    "    "
   ]
  },
  {
   "cell_type": "markdown",
   "metadata": {},
   "source": [
    "2- Les loss sont plus faibles et la précision est meilleure. C'est parce que le réseau est déjà pré-entraîné.\n",
    "\n",
    "3- Un learning rate faible permet de réduire les loss davantage. En effet, le learning rate est utilisé dans l'algorithme de descente de gradient pour déterminer le prochain point à utiliser dans l'algorithme. Plus le learning rate est faible, plus les points sont proches et plus on peut explorer un minima local."
   ]
  },
  {
   "cell_type": "markdown",
   "metadata": {},
   "source": [
    "## Partie 3 : KNN + CNN pré-entrainé"
   ]
  },
  {
   "cell_type": "markdown",
   "metadata": {},
   "source": [
    "### Exercice 3 : \n",
    "1- Ajouter le VGG entrainé sur ImageNet. (indice : include_top = True)\n",
    "\n",
    "- Pour la bases de données mini-caltech101 :\n",
    "\n",
    "2- Extraire le vecteur de caractéristique de l'avant dernière couche. (vecteur de 4096 valeurs)\n",
    "\n",
    "(indice : \n",
    "get_layer_output= K.function([model.input], [model.layers[layer_idx].output])\n",
    "\n",
    "avec le `num_layer` et le numéro de la couche en considération)\n",
    "\n",
    "\n",
    "3- Utiliser KNN pour classifier les images (K=1). \n",
    "\n",
    "(indice : from sklearn.neighbors import KNeighborsClassifier)\n",
    "\n",
    "4- Comparer les résultats obtenues avec les résultats de l'exercice 1 et 2. "
   ]
  },
  {
   "cell_type": "code",
   "execution_count": 4,
   "metadata": {},
   "outputs": [],
   "source": [
    "from tensorflow.keras.applications import VGG16"
   ]
  },
  {
   "cell_type": "code",
   "execution_count": 5,
   "metadata": {},
   "outputs": [],
   "source": [
    "vgg = VGG16(weights='imagenet',\n",
    "                  include_top=True,\n",
    "                  input_shape=(224, 224, 3))"
   ]
  },
  {
   "cell_type": "code",
   "execution_count": 15,
   "metadata": {},
   "outputs": [
    {
     "name": "stdout",
     "output_type": "stream",
     "text": [
      "Model: \"vgg16\"\n",
      "_________________________________________________________________\n",
      "Layer (type)                 Output Shape              Param #   \n",
      "=================================================================\n",
      "input_1 (InputLayer)         [(None, 224, 224, 3)]     0         \n",
      "_________________________________________________________________\n",
      "block1_conv1 (Conv2D)        (None, 224, 224, 64)      1792      \n",
      "_________________________________________________________________\n",
      "block1_conv2 (Conv2D)        (None, 224, 224, 64)      36928     \n",
      "_________________________________________________________________\n",
      "block1_pool (MaxPooling2D)   (None, 112, 112, 64)      0         \n",
      "_________________________________________________________________\n",
      "block2_conv1 (Conv2D)        (None, 112, 112, 128)     73856     \n",
      "_________________________________________________________________\n",
      "block2_conv2 (Conv2D)        (None, 112, 112, 128)     147584    \n",
      "_________________________________________________________________\n",
      "block2_pool (MaxPooling2D)   (None, 56, 56, 128)       0         \n",
      "_________________________________________________________________\n",
      "block3_conv1 (Conv2D)        (None, 56, 56, 256)       295168    \n",
      "_________________________________________________________________\n",
      "block3_conv2 (Conv2D)        (None, 56, 56, 256)       590080    \n",
      "_________________________________________________________________\n",
      "block3_conv3 (Conv2D)        (None, 56, 56, 256)       590080    \n",
      "_________________________________________________________________\n",
      "block3_pool (MaxPooling2D)   (None, 28, 28, 256)       0         \n",
      "_________________________________________________________________\n",
      "block4_conv1 (Conv2D)        (None, 28, 28, 512)       1180160   \n",
      "_________________________________________________________________\n",
      "block4_conv2 (Conv2D)        (None, 28, 28, 512)       2359808   \n",
      "_________________________________________________________________\n",
      "block4_conv3 (Conv2D)        (None, 28, 28, 512)       2359808   \n",
      "_________________________________________________________________\n",
      "block4_pool (MaxPooling2D)   (None, 14, 14, 512)       0         \n",
      "_________________________________________________________________\n",
      "block5_conv1 (Conv2D)        (None, 14, 14, 512)       2359808   \n",
      "_________________________________________________________________\n",
      "block5_conv2 (Conv2D)        (None, 14, 14, 512)       2359808   \n",
      "_________________________________________________________________\n",
      "block5_conv3 (Conv2D)        (None, 14, 14, 512)       2359808   \n",
      "_________________________________________________________________\n",
      "block5_pool (MaxPooling2D)   (None, 7, 7, 512)         0         \n",
      "_________________________________________________________________\n",
      "flatten (Flatten)            (None, 25088)             0         \n",
      "_________________________________________________________________\n",
      "fc1 (Dense)                  (None, 4096)              102764544 \n",
      "_________________________________________________________________\n",
      "fc2 (Dense)                  (None, 4096)              16781312  \n",
      "_________________________________________________________________\n",
      "predictions (Dense)          (None, 1000)              4097000   \n",
      "=================================================================\n",
      "Total params: 138,357,544\n",
      "Trainable params: 138,357,544\n",
      "Non-trainable params: 0\n",
      "_________________________________________________________________\n"
     ]
    }
   ],
   "source": [
    "vgg.summary()"
   ]
  },
  {
   "cell_type": "code",
   "execution_count": 6,
   "metadata": {},
   "outputs": [],
   "source": [
    "import tensorflow.keras.backend as K"
   ]
  },
  {
   "cell_type": "code",
   "execution_count": 13,
   "metadata": {},
   "outputs": [],
   "source": [
    "n_epoch=20\n",
    "sgd = SGD(learning_rate=1e-5, decay=1e-6, momentum=0.9, nesterov=True)\n",
    "vgg.compile(loss='categorical_crossentropy', optimizer=sgd,metrics=[\"accuracy\"])\n",
    "get_layer_output= K.function([vgg.input], [vgg.layers[-2].output])\n",
    "\n"
   ]
  },
  {
   "cell_type": "code",
   "execution_count": 16,
   "metadata": {},
   "outputs": [
    {
     "data": {
      "text/plain": [
       "<KerasTensor: shape=(None, 224, 224, 3) dtype=float32 (created by layer 'input_1')>"
      ]
     },
     "execution_count": 16,
     "metadata": {},
     "output_type": "execute_result"
    }
   ],
   "source": [
    "vgg.input"
   ]
  },
  {
   "cell_type": "code",
   "execution_count": 17,
   "metadata": {},
   "outputs": [
    {
     "data": {
      "text/plain": [
       "<KerasTensor: shape=(None, 4096) dtype=float32 (created by layer 'fc2')>"
      ]
     },
     "execution_count": 17,
     "metadata": {},
     "output_type": "execute_result"
    }
   ],
   "source": [
    "vgg.layers[-2].output"
   ]
  },
  {
   "cell_type": "code",
   "execution_count": 74,
   "metadata": {},
   "outputs": [],
   "source": [
    "train_results = []\n",
    "train_classes = []\n",
    "val_results = []\n",
    "val_classes = []"
   ]
  },
  {
   "cell_type": "code",
   "execution_count": 75,
   "metadata": {},
   "outputs": [],
   "source": [
    "for i in range(len(X_train)):\n",
    "    train_results.append(get_layer_output(tf.expand_dims(X_train[i], 0, name=None))[0][0])\n",
    "    train_classes.append(y_train[i])"
   ]
  },
  {
   "cell_type": "code",
   "execution_count": 76,
   "metadata": {},
   "outputs": [],
   "source": [
    "for i in range(len(X_test)):\n",
    "    val_results.append(get_layer_output(tf.expand_dims(X_test[i], 0, name=None))[0][0])\n",
    "    val_classes.append(y_test[i])"
   ]
  },
  {
   "cell_type": "code",
   "execution_count": 77,
   "metadata": {},
   "outputs": [],
   "source": [
    "from sklearn.neighbors import KNeighborsClassifier"
   ]
  },
  {
   "cell_type": "code",
   "execution_count": 78,
   "metadata": {},
   "outputs": [
    {
     "data": {
      "text/plain": [
       "KNeighborsClassifier(n_neighbors=1)"
      ]
     },
     "execution_count": 78,
     "metadata": {},
     "output_type": "execute_result"
    }
   ],
   "source": [
    "neigh = KNeighborsClassifier(n_neighbors=1)\n",
    "neigh.fit(train_results,train_classes)"
   ]
  },
  {
   "cell_type": "code",
   "execution_count": 83,
   "metadata": {},
   "outputs": [
    {
     "name": "stdout",
     "output_type": "stream",
     "text": [
      "[[0. 0. 1. 0. 0. 0. 0. 0. 0. 0.]]\n",
      "[0. 0. 1. 0. 0. 0. 0. 0. 0. 0.]\n"
     ]
    }
   ],
   "source": [
    "print(neigh.predict([train_results[1]]))\n",
    "print(train_classes[1])"
   ]
  },
  {
   "cell_type": "code",
   "execution_count": 85,
   "metadata": {},
   "outputs": [
    {
     "data": {
      "text/plain": [
       "array([[0., 0., 1., 0., 0., 0., 0., 0., 0., 0.]], dtype=float32)"
      ]
     },
     "execution_count": 85,
     "metadata": {},
     "output_type": "execute_result"
    }
   ],
   "source": [
    "neigh.predict([train_results[1]])"
   ]
  },
  {
   "cell_type": "code",
   "execution_count": 87,
   "metadata": {},
   "outputs": [
    {
     "data": {
      "text/plain": [
       "array([[ True,  True,  True,  True,  True,  True,  True,  True,  True,\n",
       "         True]])"
      ]
     },
     "execution_count": 87,
     "metadata": {},
     "output_type": "execute_result"
    }
   ],
   "source": [
    "train_classes[1] == neigh.predict([train_results[1]])"
   ]
  },
  {
   "cell_type": "code",
   "execution_count": 88,
   "metadata": {},
   "outputs": [
    {
     "name": "stdout",
     "output_type": "stream",
     "text": [
      "0.9666666666666667\n"
     ]
    }
   ],
   "source": [
    "accuracy = 0\n",
    "for i in range(len(val_results)):\n",
    "    if (neigh.predict([val_results[i]])==val_classes[i]).all():\n",
    "        accuracy+=1\n",
    "\n",
    "print(accuracy/len(val_results))        "
   ]
  },
  {
   "cell_type": "markdown",
   "metadata": {},
   "source": [
    "Nous avons des performances supérieures qu'aux exercices 1 et 2 au détriment d'un temps d'inférence plus élevé."
   ]
  },
  {
   "cell_type": "markdown",
   "metadata": {},
   "source": [
    "## Évaluation : \n",
    "\n",
    "Exercice 1 : 30%\n",
    "    \n",
    "Exercice 2 : 30%\n",
    "    \n",
    "Exercice 3 : 40%"
   ]
  }
 ],
 "metadata": {
  "kernelspec": {
   "display_name": "Python 3",
   "language": "python",
   "name": "python3"
  },
  "language_info": {
   "codemirror_mode": {
    "name": "ipython",
    "version": 3
   },
   "file_extension": ".py",
   "mimetype": "text/x-python",
   "name": "python",
   "nbconvert_exporter": "python",
   "pygments_lexer": "ipython3",
   "version": "3.9.7"
  }
 },
 "nbformat": 4,
 "nbformat_minor": 2
}
