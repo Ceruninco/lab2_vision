{
 "cells": [
  {
   "cell_type": "markdown",
   "metadata": {},
   "source": [
    "# Lab 3 Vision par ordinateur : Apprentissage profond"
   ]
  },
  {
   "cell_type": "markdown",
   "metadata": {},
   "source": [
    "Author: Mohsen Benlazreg M.ing en GPA\n",
    "\n",
    "Mise à jour: Étienne Pepin\n",
    "\n",
    "REF : https://keras.io/examples/\n",
    "#### requirements :\n",
    "numpy  \n",
    "sklearn  \n",
    "tensorflow"
   ]
  },
  {
   "cell_type": "markdown",
   "metadata": {},
   "source": [
    "## Séance 2 : Utilisation des architectures pré-entraînées"
   ]
  },
  {
   "attachments": {
    "image.png": {
     "image/png": "[encoded data removed]"
    }
   },
   "cell_type": "markdown",
   "metadata": {},
   "source": [
    "Une approche courante et très efficace de l'apprentissage profond consiste à conserver une partie d'un réseau de neurones pré-entrainé. Un réseau pré-entrainé est simplement un réseau entrainé sur une grande base données, généralement sur une tâche de classification d'images à grande échelle.\n",
    "\n",
    "Si cette base de données utilisée est assez grande et assez générale, alors la hiérarchie des caractéristiques spatiales apprise par le réseau pré-entrainé peut effectivement agir comme un modèle générique de notre monde visuel, et donc ses caractéristiques peuvent s'avérer utiles pour de nombreux problèmes de vision par ordinateur différents, même si ces nouveaux problèmes puissent impliquer des classes complètement différentes.\n",
    "\n",
    "Dans notre cas, nous considérerons un grand convnet entrainé sur la base de données ImageNet (1,4 million d'images étiquetées et 1000 classes différentes).\n",
    "\n",
    "Nous utiliserons l'architecture VGG16, développée par Karen Simonyan et Andrew Zisserman en 2014, une architecture convnet simple et largement utilisée.\n",
    "\n",
    "C'est un modèle un peu plus ancien, loin de l'état de l'art actuel mais nous l'avons choisi car son architecture est facile à comprendre sans introduire de nouveaux concepts.\n",
    "\n",
    "Le modèle VGG16 est donné dans le framework Keras. Vous pouvez l'importer depuis le module `keras.applications`. Voici la liste quelques modèles pré-entrainé sur ImageNet fournit par Keras:\n",
    "* Xception\n",
    "* InceptionV3\n",
    "* ResNet50\n",
    "* VGG16\n",
    "* VGG19\n",
    "* MobileNet\n",
    "\n",
    "Il existe deux façons d'exploiter un réseau pré-entrainé :\n",
    "- Utiliser ce réseau comme un extracteur de caractéristiques.\n",
    "- Adapter une partie de ce réseau par un petit entrainement. \n",
    "\n",
    "![image.png](attachment:image.png)\n",
    "![source] https://www.researchgate.net/figure/TOP-LEVEL-DIAGRAM-OF-TRANSFER-LEARNING-FROM-A-PRE-TRAINED-CNN-MODEL_fig4_333882146"
   ]
  },
  {
   "cell_type": "markdown",
   "metadata": {},
   "source": [
    "## Partie 1 : Extraction de caractéristiques "
   ]
  },
  {
   "cell_type": "markdown",
   "metadata": {},
   "source": [
    "Cette technique consiste à utiliser la partie d'extraction de caractéristiques \" `conv_base` \" du CNN. \n"
   ]
  },
  {
   "cell_type": "code",
   "execution_count": 1,
   "metadata": {},
   "outputs": [
    {
     "data": {
      "text/plain": [
       "'2.6.0'"
      ]
     },
     "execution_count": 1,
     "metadata": {},
     "output_type": "execute_result"
    }
   ],
   "source": [
    "import tensorflow as tf\n",
    "import os\n",
    "#os.environ[\"CUDA_VISIBLE_DEVICES\"]=\"-1\"  #disables GPU \n",
    "import matplotlib.pyplot as plt\n",
    "import numpy as np\n",
    "tf.__version__"
   ]
  },
  {
   "cell_type": "code",
   "execution_count": 2,
   "metadata": {},
   "outputs": [
    {
     "name": "stdout",
     "output_type": "stream",
     "text": [
      "[name: \"/device:CPU:0\"\n",
      "device_type: \"CPU\"\n",
      "memory_limit: 268435456\n",
      "locality {\n",
      "}\n",
      "incarnation: 2868246527878589329\n",
      ", name: \"/device:GPU:0\"\n",
      "device_type: \"GPU\"\n",
      "memory_limit: 6469084774\n",
      "locality {\n",
      "  bus_id: 1\n",
      "  links {\n",
      "  }\n",
      "}\n",
      "incarnation: 4608829727588648933\n",
      "physical_device_desc: \"device: 0, name: NVIDIA GeForce GTX 1080, pci bus id: 0000:01:00.0, compute capability: 6.1\"\n",
      "]\n"
     ]
    }
   ],
   "source": [
    "from tensorflow.python.client import device_lib\n",
    "print(device_lib.list_local_devices())"
   ]
  },
  {
   "cell_type": "code",
   "execution_count": 36,
   "metadata": {},
   "outputs": [],
   "source": [
    "from tensorflow.keras.applications import VGG16\n",
    "\n",
    "conv_base = VGG16(weights='imagenet',\n",
    "                  include_top=False,\n",
    "                  input_shape=(224, 224, 3))"
   ]
  },
  {
   "cell_type": "code",
   "execution_count": 37,
   "metadata": {},
   "outputs": [
    {
     "name": "stdout",
     "output_type": "stream",
     "text": [
      "Model: \"vgg16\"\n",
      "_________________________________________________________________\n",
      "Layer (type)                 Output Shape              Param #   \n",
      "=================================================================\n",
      "input_2 (InputLayer)         [(None, 224, 224, 3)]     0         \n",
      "_________________________________________________________________\n",
      "block1_conv1 (Conv2D)        (None, 224, 224, 64)      1792      \n",
      "_________________________________________________________________\n",
      "block1_conv2 (Conv2D)        (None, 224, 224, 64)      36928     \n",
      "_________________________________________________________________\n",
      "block1_pool (MaxPooling2D)   (None, 112, 112, 64)      0         \n",
      "_________________________________________________________________\n",
      "block2_conv1 (Conv2D)        (None, 112, 112, 128)     73856     \n",
      "_________________________________________________________________\n",
      "block2_conv2 (Conv2D)        (None, 112, 112, 128)     147584    \n",
      "_________________________________________________________________\n",
      "block2_pool (MaxPooling2D)   (None, 56, 56, 128)       0         \n",
      "_________________________________________________________________\n",
      "block3_conv1 (Conv2D)        (None, 56, 56, 256)       295168    \n",
      "_________________________________________________________________\n",
      "block3_conv2 (Conv2D)        (None, 56, 56, 256)       590080    \n",
      "_________________________________________________________________\n",
      "block3_conv3 (Conv2D)        (None, 56, 56, 256)       590080    \n",
      "_________________________________________________________________\n",
      "block3_pool (MaxPooling2D)   (None, 28, 28, 256)       0         \n",
      "_________________________________________________________________\n",
      "block4_conv1 (Conv2D)        (None, 28, 28, 512)       1180160   \n",
      "_________________________________________________________________\n",
      "block4_conv2 (Conv2D)        (None, 28, 28, 512)       2359808   \n",
      "_________________________________________________________________\n",
      "block4_conv3 (Conv2D)        (None, 28, 28, 512)       2359808   \n",
      "_________________________________________________________________\n",
      "block4_pool (MaxPooling2D)   (None, 14, 14, 512)       0         \n",
      "_________________________________________________________________\n",
      "block5_conv1 (Conv2D)        (None, 14, 14, 512)       2359808   \n",
      "_________________________________________________________________\n",
      "block5_conv2 (Conv2D)        (None, 14, 14, 512)       2359808   \n",
      "_________________________________________________________________\n",
      "block5_conv3 (Conv2D)        (None, 14, 14, 512)       2359808   \n",
      "_________________________________________________________________\n",
      "block5_pool (MaxPooling2D)   (None, 7, 7, 512)         0         \n",
      "=================================================================\n",
      "Total params: 14,714,688\n",
      "Trainable params: 0\n",
      "Non-trainable params: 14,714,688\n",
      "_________________________________________________________________\n"
     ]
    }
   ],
   "source": [
    "conv_base.trainable = False # l'entrainement va pas affecter cette partie\n",
    "conv_base.summary()"
   ]
  },
  {
   "cell_type": "markdown",
   "metadata": {},
   "source": [
    "La dernière couche est une couche de pooling de forme (4,4,512), c'est à partir de cette couche qu'on va coller un un perceptron multicouche pour la classification."
   ]
  },
  {
   "cell_type": "markdown",
   "metadata": {},
   "source": [
    "### Exercice 1 :\n",
    "\n",
    "1- Ajouter une couche de flatten et un perceptron multicouche (à vous de choisir les hyper-paramétres : nombre de couches, nombre de neurones dans chaque couche, fonction d'activation).\n",
    "\n",
    "(indice: \n",
    "model = models.Sequential()\n",
    "\n",
    "model.add(conv_base)\n",
    "\n",
    "model.add(layers.Flatten())\n",
    ")\n",
    "\n",
    "2 - Faire le preprocessing des données mini-caltech101 pour que vos images soient preprocess de la même façon qu'elles l'étaient lors de l'entraînement de VGG16\n",
    "\n",
    "voir https://www.tensorflow.org/api_docs/python/tf/keras/applications/vgg16/preprocess_input, prêter attention à l'input range des images de cette fonction.\n",
    "   \n",
    "3- Faire l'entrainement sur  avec un lr=1e-5 pendant 20 époques.\n",
    "    \n",
    "4- Tracer les courbes de précision et d'erreur et comparer les résultats obtenus avec les résultats du lab\n",
    "précedent. \n",
    "\n"
   ]
  },
  {
   "cell_type": "code",
   "execution_count": 38,
   "metadata": {},
   "outputs": [],
   "source": [
    "\n",
    "\n",
    "from tensorflow.keras import models\n",
    "from tensorflow.keras import layers\n",
    "\n",
    "model = models.Sequential()\n",
    "\n",
    "model.add(conv_base)\n",
    "\n",
    "model.add(layers.Flatten())\n",
    "model.add(layers.Dense(512, activation='relu', input_shape=(7* 7,)))\n",
    "model.add(layers.Dense(512, activation='relu', input_shape=(7* 7,)))\n",
    "\n",
    "model.add(layers.Dense(512, activation='relu', input_shape=(7* 7,)))\n",
    "model.add(layers.Dense(10, activation='softmax'))\n",
    "\n"
   ]
  },
  {
   "cell_type": "code",
   "execution_count": 9,
   "metadata": {},
   "outputs": [],
   "source": [
    "\n",
    "\n",
    "import os\n",
    "import cv2\n",
    "import numpy as np\n",
    "\n",
    "def load_data (data_path,img_shape):\n",
    "    data_dir_list = os.listdir(data_path)\n",
    "    img_rows=img_shape[0]\n",
    "    img_cols=img_shape[1]\n",
    "    num_channel=img_shape[2]\n",
    "\n",
    "\n",
    "    labels=[]\n",
    "    data=[]\n",
    "    len_list_img=0\n",
    "    num_class=0\n",
    "    for dataset in data_dir_list:\n",
    "        img_list=os.listdir(data_path+'/'+ dataset)    \n",
    "        for img in img_list:\n",
    "            input_img=cv2.imread(data_path + '/'+ dataset + '/'+ img )\n",
    "            input_img=cv2.resize(input_img,(img_rows,img_cols))\n",
    "            input_img = tf.keras.applications.vgg16.preprocess_input(input_img, data_format=None)\n",
    "            data.append(input_img)\n",
    "            labels.append(num_class)\n",
    "        num_class+=1\n",
    "\n",
    "    data = np.array(data)\n",
    "    data = data.astype('float32')\n",
    "    data /= 255\n",
    "    labels=np.array(labels)\n",
    "    print('data shape',data.shape)\n",
    "    print('labels shape',labels.shape)\n",
    "    return data, labels\n",
    "\n"
   ]
  },
  {
   "cell_type": "code",
   "execution_count": 10,
   "metadata": {},
   "outputs": [
    {
     "name": "stdout",
     "output_type": "stream",
     "text": [
      "data shape (500, 224, 224, 3)\n",
      "labels shape (500,)\n"
     ]
    }
   ],
   "source": [
    "\n",
    "\n",
    "data_path='mini_Caltech101'\n",
    "img_shape=[224,224,3]\n",
    "data, labels=load_data (data_path,img_shape)\n",
    "\n"
   ]
  },
  {
   "cell_type": "code",
   "execution_count": 11,
   "metadata": {},
   "outputs": [],
   "source": [
    "from sklearn.utils import shuffle\n",
    "from sklearn.model_selection import train_test_split\n",
    "from tensorflow.keras.utils import to_categorical\n",
    "from tensorflow.keras.preprocessing.image import ImageDataGenerator\n",
    "num_classes=10\n",
    "Y = to_categorical(labels, num_classes)\n",
    "X_train,y_train = shuffle(data,Y, random_state=2)\n",
    "X_train, X_test, y_train , y_test = train_test_split(X_train,y_train, test_size=0.3, random_state=2)"
   ]
  },
  {
   "cell_type": "code",
   "execution_count": 8,
   "metadata": {},
   "outputs": [],
   "source": [
    "from tensorflow.keras.optimizers import SGD,RMSprop,Adam"
   ]
  },
  {
   "cell_type": "code",
   "execution_count": 42,
   "metadata": {},
   "outputs": [
    {
     "name": "stdout",
     "output_type": "stream",
     "text": [
      "Model: \"sequential_1\"\n",
      "_________________________________________________________________\n",
      "Layer (type)                 Output Shape              Param #   \n",
      "=================================================================\n",
      "vgg16 (Functional)           (None, 7, 7, 512)         14714688  \n",
      "_________________________________________________________________\n",
      "flatten_1 (Flatten)          (None, 25088)             0         \n",
      "_________________________________________________________________\n",
      "dense_2 (Dense)              (None, 512)               12845568  \n",
      "_________________________________________________________________\n",
      "dense_3 (Dense)              (None, 512)               262656    \n",
      "_________________________________________________________________\n",
      "dense_4 (Dense)              (None, 512)               262656    \n",
      "_________________________________________________________________\n",
      "dense_5 (Dense)              (None, 10)                5130      \n",
      "=================================================================\n",
      "Total params: 28,090,698\n",
      "Trainable params: 13,376,010\n",
      "Non-trainable params: 14,714,688\n",
      "_________________________________________________________________\n"
     ]
    }
   ],
   "source": [
    "\n",
    "sgd = SGD(learning_rate=1e-5, decay=1e-6, momentum=0.9, nesterov=True)\n",
    "model.compile(loss='categorical_crossentropy', optimizer=sgd,metrics=[\"accuracy\"])\n",
    "model.summary()"
   ]
  },
  {
   "cell_type": "code",
   "execution_count": 43,
   "metadata": {},
   "outputs": [
    {
     "name": "stdout",
     "output_type": "stream",
     "text": [
      "Epoch 1/20\n",
      "24/24 [==============================] - 3s 88ms/step - loss: 2.3537 - accuracy: 0.1343 - val_loss: 2.3257 - val_accuracy: 0.1200\n",
      "Epoch 2/20\n",
      "24/24 [==============================] - 2s 75ms/step - loss: 2.2939 - accuracy: 0.1943 - val_loss: 2.2675 - val_accuracy: 0.2133\n",
      "Epoch 3/20\n",
      "24/24 [==============================] - 2s 77ms/step - loss: 2.2379 - accuracy: 0.2457 - val_loss: 2.2172 - val_accuracy: 0.2600\n",
      "Epoch 4/20\n",
      "24/24 [==============================] - 2s 76ms/step - loss: 2.1881 - accuracy: 0.2857 - val_loss: 2.1744 - val_accuracy: 0.3067\n",
      "Epoch 5/20\n",
      "24/24 [==============================] - 2s 75ms/step - loss: 2.1446 - accuracy: 0.3229 - val_loss: 2.1370 - val_accuracy: 0.3133\n",
      "Epoch 6/20\n",
      "24/24 [==============================] - 2s 75ms/step - loss: 2.1063 - accuracy: 0.3829 - val_loss: 2.1032 - val_accuracy: 0.3800\n",
      "Epoch 7/20\n",
      "24/24 [==============================] - 2s 75ms/step - loss: 2.0709 - accuracy: 0.4114 - val_loss: 2.0719 - val_accuracy: 0.4067\n",
      "Epoch 8/20\n",
      "24/24 [==============================] - 2s 76ms/step - loss: 2.0385 - accuracy: 0.4600 - val_loss: 2.0415 - val_accuracy: 0.4800\n",
      "Epoch 9/20\n",
      "24/24 [==============================] - 2s 75ms/step - loss: 2.0072 - accuracy: 0.4886 - val_loss: 2.0124 - val_accuracy: 0.4933\n",
      "Epoch 10/20\n",
      "24/24 [==============================] - 2s 74ms/step - loss: 1.9786 - accuracy: 0.5029 - val_loss: 1.9839 - val_accuracy: 0.5000\n",
      "Epoch 11/20\n",
      "24/24 [==============================] - 2s 75ms/step - loss: 1.9493 - accuracy: 0.5400 - val_loss: 1.9571 - val_accuracy: 0.5200\n",
      "Epoch 12/20\n",
      "24/24 [==============================] - 2s 76ms/step - loss: 1.9213 - accuracy: 0.5686 - val_loss: 1.9302 - val_accuracy: 0.5400\n",
      "Epoch 13/20\n",
      "24/24 [==============================] - 2s 76ms/step - loss: 1.8923 - accuracy: 0.5914 - val_loss: 1.9027 - val_accuracy: 0.5533\n",
      "Epoch 14/20\n",
      "24/24 [==============================] - 2s 79ms/step - loss: 1.8670 - accuracy: 0.6371 - val_loss: 1.8766 - val_accuracy: 0.5867\n",
      "Epoch 15/20\n",
      "24/24 [==============================] - 2s 77ms/step - loss: 1.8385 - accuracy: 0.6571 - val_loss: 1.8504 - val_accuracy: 0.5867\n",
      "Epoch 16/20\n",
      "24/24 [==============================] - 2s 78ms/step - loss: 1.8125 - accuracy: 0.7057 - val_loss: 1.8257 - val_accuracy: 0.6333\n",
      "Epoch 17/20\n",
      "24/24 [==============================] - 2s 79ms/step - loss: 1.7866 - accuracy: 0.7286 - val_loss: 1.8002 - val_accuracy: 0.6467\n",
      "Epoch 18/20\n",
      "24/24 [==============================] - 2s 79ms/step - loss: 1.7595 - accuracy: 0.7286 - val_loss: 1.7755 - val_accuracy: 0.6533\n",
      "Epoch 19/20\n",
      "24/24 [==============================] - 2s 77ms/step - loss: 1.7335 - accuracy: 0.7543 - val_loss: 1.7507 - val_accuracy: 0.6800\n",
      "Epoch 20/20\n",
      "24/24 [==============================] - 2s 76ms/step - loss: 1.7069 - accuracy: 0.7829 - val_loss: 1.7244 - val_accuracy: 0.7200\n"
     ]
    }
   ],
   "source": [
    "n_epoch=20\n",
    "hist = model.fit(X_train, y_train, batch_size=15, epochs=n_epoch, verbose=1, validation_data=(X_test, y_test))"
   ]
  },
  {
   "cell_type": "markdown",
   "metadata": {},
   "source": [
    "## Partie 2 : Adaptation d'un CNN pré-entraîné   \n",
    "\n",
    "Dans cette partie, on va faire un petit réglage pour quelques couches de convolution de notre modèle. Cette méthode ajuste légèrement les représentations les plus abstraites du modèle réutilisé, afin de les rendre plus pertinentes pour le problème en question.\n"
   ]
  },
  {
   "cell_type": "code",
   "execution_count": 44,
   "metadata": {},
   "outputs": [
    {
     "name": "stdout",
     "output_type": "stream",
     "text": [
      "Model: \"vgg16\"\n",
      "_________________________________________________________________\n",
      "Layer (type)                 Output Shape              Param #   \n",
      "=================================================================\n",
      "input_2 (InputLayer)         [(None, 224, 224, 3)]     0         \n",
      "_________________________________________________________________\n",
      "block1_conv1 (Conv2D)        (None, 224, 224, 64)      1792      \n",
      "_________________________________________________________________\n",
      "block1_conv2 (Conv2D)        (None, 224, 224, 64)      36928     \n",
      "_________________________________________________________________\n",
      "block1_pool (MaxPooling2D)   (None, 112, 112, 64)      0         \n",
      "_________________________________________________________________\n",
      "block2_conv1 (Conv2D)        (None, 112, 112, 128)     73856     \n",
      "_________________________________________________________________\n",
      "block2_conv2 (Conv2D)        (None, 112, 112, 128)     147584    \n",
      "_________________________________________________________________\n",
      "block2_pool (MaxPooling2D)   (None, 56, 56, 128)       0         \n",
      "_________________________________________________________________\n",
      "block3_conv1 (Conv2D)        (None, 56, 56, 256)       295168    \n",
      "_________________________________________________________________\n",
      "block3_conv2 (Conv2D)        (None, 56, 56, 256)       590080    \n",
      "_________________________________________________________________\n",
      "block3_conv3 (Conv2D)        (None, 56, 56, 256)       590080    \n",
      "_________________________________________________________________\n",
      "block3_pool (MaxPooling2D)   (None, 28, 28, 256)       0         \n",
      "_________________________________________________________________\n",
      "block4_conv1 (Conv2D)        (None, 28, 28, 512)       1180160   \n",
      "_________________________________________________________________\n",
      "block4_conv2 (Conv2D)        (None, 28, 28, 512)       2359808   \n",
      "_________________________________________________________________\n",
      "block4_conv3 (Conv2D)        (None, 28, 28, 512)       2359808   \n",
      "_________________________________________________________________\n",
      "block4_pool (MaxPooling2D)   (None, 14, 14, 512)       0         \n",
      "_________________________________________________________________\n",
      "block5_conv1 (Conv2D)        (None, 14, 14, 512)       2359808   \n",
      "_________________________________________________________________\n",
      "block5_conv2 (Conv2D)        (None, 14, 14, 512)       2359808   \n",
      "_________________________________________________________________\n",
      "block5_conv3 (Conv2D)        (None, 14, 14, 512)       2359808   \n",
      "_________________________________________________________________\n",
      "block5_pool (MaxPooling2D)   (None, 7, 7, 512)         0         \n",
      "=================================================================\n",
      "Total params: 14,714,688\n",
      "Trainable params: 0\n",
      "Non-trainable params: 14,714,688\n",
      "_________________________________________________________________\n"
     ]
    }
   ],
   "source": [
    "conv_base.summary()"
   ]
  },
  {
   "cell_type": "markdown",
   "metadata": {},
   "source": [
    "\n",
    "Les étapes suivantes résument cet algorithme :\n",
    "\n",
    "1- Ajouter un perceptron multicouche.\n",
    "\n",
    "2- Débloquer quelques couches de la base de convolution. \n",
    "\n",
    "3- Faire l'entrainement. \n",
    "\n",
    "Par exemple, on va débloquer les couches qui suivent `block4_pool` et laisser les autres bloquées. C'est à dire, les couches `block5_conv1`, `block5_conv2` et `block5_conv3` vont être modifiées lors de l'entrainement."
   ]
  },
  {
   "cell_type": "code",
   "execution_count": 45,
   "metadata": {},
   "outputs": [],
   "source": [
    "conv_base.trainable = True\n",
    "\n",
    "set_trainable = False\n",
    "for layer in conv_base.layers:\n",
    "    if layer.name == 'block5_conv1':\n",
    "        set_trainable = True\n",
    "    if set_trainable:\n",
    "        layer.trainable = True\n",
    "    else:\n",
    "        layer.trainable = False"
   ]
  },
  {
   "cell_type": "code",
   "execution_count": 46,
   "metadata": {},
   "outputs": [],
   "source": [
    "model2 = models.Sequential()\n",
    "\n",
    "model2.add(conv_base)\n",
    "\n",
    "model2.add(layers.Flatten())\n",
    "model2.add(layers.Dense(512, activation='relu', input_shape=(7* 7,)))\n",
    "model2.add(layers.Dense(512, activation='relu', input_shape=(7* 7,)))\n",
    "\n",
    "model2.add(layers.Dense(512, activation='relu', input_shape=(7* 7,)))\n",
    "model2.add(layers.Dense(10, activation='softmax'))"
   ]
  },
  {
   "cell_type": "code",
   "execution_count": 47,
   "metadata": {},
   "outputs": [
    {
     "name": "stdout",
     "output_type": "stream",
     "text": [
      "Epoch 1/20\n",
      "24/24 [==============================] - 6s 112ms/step - loss: 2.3390 - accuracy: 0.0971 - val_loss: 2.2847 - val_accuracy: 0.1133\n",
      "Epoch 2/20\n",
      "24/24 [==============================] - 2s 93ms/step - loss: 2.2847 - accuracy: 0.1171 - val_loss: 2.2388 - val_accuracy: 0.1267\n",
      "Epoch 3/20\n",
      "24/24 [==============================] - 2s 95ms/step - loss: 2.2300 - accuracy: 0.1486 - val_loss: 2.1929 - val_accuracy: 0.1867\n",
      "Epoch 4/20\n",
      "24/24 [==============================] - 2s 96ms/step - loss: 2.1794 - accuracy: 0.2114 - val_loss: 2.1511 - val_accuracy: 0.2733\n",
      "Epoch 5/20\n",
      "24/24 [==============================] - 2s 94ms/step - loss: 2.1297 - accuracy: 0.3686 - val_loss: 2.1091 - val_accuracy: 0.3800\n",
      "Epoch 6/20\n",
      "24/24 [==============================] - 2s 94ms/step - loss: 2.0835 - accuracy: 0.4657 - val_loss: 2.0658 - val_accuracy: 0.4467\n",
      "Epoch 7/20\n",
      "24/24 [==============================] - 2s 97ms/step - loss: 2.0387 - accuracy: 0.5543 - val_loss: 2.0247 - val_accuracy: 0.5067\n",
      "Epoch 8/20\n",
      "24/24 [==============================] - 2s 97ms/step - loss: 1.9936 - accuracy: 0.6514 - val_loss: 1.9831 - val_accuracy: 0.5667\n",
      "Epoch 9/20\n",
      "24/24 [==============================] - 2s 97ms/step - loss: 1.9497 - accuracy: 0.7086 - val_loss: 1.9416 - val_accuracy: 0.6200\n",
      "Epoch 10/20\n",
      "24/24 [==============================] - 2s 95ms/step - loss: 1.9049 - accuracy: 0.7343 - val_loss: 1.8997 - val_accuracy: 0.6867\n",
      "Epoch 11/20\n",
      "24/24 [==============================] - 2s 95ms/step - loss: 1.8597 - accuracy: 0.7857 - val_loss: 1.8558 - val_accuracy: 0.7333\n",
      "Epoch 12/20\n",
      "24/24 [==============================] - 2s 95ms/step - loss: 1.8144 - accuracy: 0.8200 - val_loss: 1.8110 - val_accuracy: 0.7533\n",
      "Epoch 13/20\n",
      "24/24 [==============================] - 2s 94ms/step - loss: 1.7666 - accuracy: 0.8343 - val_loss: 1.7642 - val_accuracy: 0.7800\n",
      "Epoch 14/20\n",
      "24/24 [==============================] - 2s 93ms/step - loss: 1.7184 - accuracy: 0.8657 - val_loss: 1.7175 - val_accuracy: 0.8133\n",
      "Epoch 15/20\n",
      "24/24 [==============================] - 2s 93ms/step - loss: 1.6695 - accuracy: 0.8886 - val_loss: 1.6692 - val_accuracy: 0.8733\n",
      "Epoch 16/20\n",
      "24/24 [==============================] - 2s 94ms/step - loss: 1.6173 - accuracy: 0.9114 - val_loss: 1.6190 - val_accuracy: 0.9133\n",
      "Epoch 17/20\n",
      "24/24 [==============================] - 2s 93ms/step - loss: 1.5684 - accuracy: 0.9114 - val_loss: 1.5701 - val_accuracy: 0.9200\n",
      "Epoch 18/20\n",
      "24/24 [==============================] - 2s 93ms/step - loss: 1.5156 - accuracy: 0.9257 - val_loss: 1.5199 - val_accuracy: 0.9267\n",
      "Epoch 19/20\n",
      "24/24 [==============================] - 2s 93ms/step - loss: 1.4644 - accuracy: 0.9400 - val_loss: 1.4699 - val_accuracy: 0.9267\n",
      "Epoch 20/20\n",
      "24/24 [==============================] - 2s 94ms/step - loss: 1.4124 - accuracy: 0.9514 - val_loss: 1.4193 - val_accuracy: 0.9400\n"
     ]
    }
   ],
   "source": [
    "n_epoch=20\n",
    "sgd = SGD(learning_rate=1e-5, decay=1e-6, momentum=0.9, nesterov=True)\n",
    "model2.compile(loss='categorical_crossentropy', optimizer=sgd,metrics=[\"accuracy\"])\n",
    "\n",
    "hist = model2.fit(X_train, y_train, batch_size=15, epochs=n_epoch, verbose=1, validation_data=(X_test, y_test))"
   ]
  },
  {
   "cell_type": "markdown",
   "metadata": {},
   "source": [
    "### Exercice 2:\n",
    "\n",
    "1- Réaliser l'entrainement du CNN pré-entrainé adapté sur mini-caltech101 (lr=1e-5, 20 époques). \n",
    "\n",
    "2- Comparer les résultats obtenus avec les résultats de l'exercice 1. \n",
    "\n",
    "3- Expliquer pourquoi on utilise un lr (learning rate) faible.\n",
    "    "
   ]
  },
  {
   "cell_type": "markdown",
   "metadata": {},
   "source": [
    "## Partie 3 : KNN + CNN pré-entrainé"
   ]
  },
  {
   "cell_type": "markdown",
   "metadata": {},
   "source": [
    "### Exercice 3 : \n",
    "1- Ajouter le VGG entrainé sur ImageNet. (indice : include_top = True)\n",
    "\n",
    "- Pour la bases de données mini-caltech101 :\n",
    "\n",
    "2- Extraire le vecteur de caractéristique de l'avant dernière couche. (vecteur de 4096 valeurs)\n",
    "\n",
    "(indice : \n",
    "get_layer_output= K.function([model.input], [model.layers[layer_idx].output])\n",
    "\n",
    "avec le `num_layer` et le numéro de la couche en considération)\n",
    "\n",
    "\n",
    "3- Utiliser KNN pour classifier les images (K=1). \n",
    "\n",
    "(indice : from sklearn.neighbors import KNeighborsClassifier)\n",
    "\n",
    "4- Comparer les résultats obtenues avec les résultats de l'exercice 1 et 2. "
   ]
  },
  {
   "cell_type": "code",
   "execution_count": 4,
   "metadata": {},
   "outputs": [],
   "source": [
    "from tensorflow.keras.applications import VGG16"
   ]
  },
  {
   "cell_type": "code",
   "execution_count": 5,
   "metadata": {},
   "outputs": [],
   "source": [
    "vgg = VGG16(weights='imagenet',\n",
    "                  include_top=True,\n",
    "                  input_shape=(224, 224, 3))"
   ]
  },
  {
   "cell_type": "code",
   "execution_count": 15,
   "metadata": {},
   "outputs": [
    {
     "name": "stdout",
     "output_type": "stream",
     "text": [
      "Model: \"vgg16\"\n",
      "_________________________________________________________________\n",
      "Layer (type)                 Output Shape              Param #   \n",
      "=================================================================\n",
      "input_1 (InputLayer)         [(None, 224, 224, 3)]     0         \n",
      "_________________________________________________________________\n",
      "block1_conv1 (Conv2D)        (None, 224, 224, 64)      1792      \n",
      "_________________________________________________________________\n",
      "block1_conv2 (Conv2D)        (None, 224, 224, 64)      36928     \n",
      "_________________________________________________________________\n",
      "block1_pool (MaxPooling2D)   (None, 112, 112, 64)      0         \n",
      "_________________________________________________________________\n",
      "block2_conv1 (Conv2D)        (None, 112, 112, 128)     73856     \n",
      "_________________________________________________________________\n",
      "block2_conv2 (Conv2D)        (None, 112, 112, 128)     147584    \n",
      "_________________________________________________________________\n",
      "block2_pool (MaxPooling2D)   (None, 56, 56, 128)       0         \n",
      "_________________________________________________________________\n",
      "block3_conv1 (Conv2D)        (None, 56, 56, 256)       295168    \n",
      "_________________________________________________________________\n",
      "block3_conv2 (Conv2D)        (None, 56, 56, 256)       590080    \n",
      "_________________________________________________________________\n",
      "block3_conv3 (Conv2D)        (None, 56, 56, 256)       590080    \n",
      "_________________________________________________________________\n",
      "block3_pool (MaxPooling2D)   (None, 28, 28, 256)       0         \n",
      "_________________________________________________________________\n",
      "block4_conv1 (Conv2D)        (None, 28, 28, 512)       1180160   \n",
      "_________________________________________________________________\n",
      "block4_conv2 (Conv2D)        (None, 28, 28, 512)       2359808   \n",
      "_________________________________________________________________\n",
      "block4_conv3 (Conv2D)        (None, 28, 28, 512)       2359808   \n",
      "_________________________________________________________________\n",
      "block4_pool (MaxPooling2D)   (None, 14, 14, 512)       0         \n",
      "_________________________________________________________________\n",
      "block5_conv1 (Conv2D)        (None, 14, 14, 512)       2359808   \n",
      "_________________________________________________________________\n",
      "block5_conv2 (Conv2D)        (None, 14, 14, 512)       2359808   \n",
      "_________________________________________________________________\n",
      "block5_conv3 (Conv2D)        (None, 14, 14, 512)       2359808   \n",
      "_________________________________________________________________\n",
      "block5_pool (MaxPooling2D)   (None, 7, 7, 512)         0         \n",
      "_________________________________________________________________\n",
      "flatten (Flatten)            (None, 25088)             0         \n",
      "_________________________________________________________________\n",
      "fc1 (Dense)                  (None, 4096)              102764544 \n",
      "_________________________________________________________________\n",
      "fc2 (Dense)                  (None, 4096)              16781312  \n",
      "_________________________________________________________________\n",
      "predictions (Dense)          (None, 1000)              4097000   \n",
      "=================================================================\n",
      "Total params: 138,357,544\n",
      "Trainable params: 138,357,544\n",
      "Non-trainable params: 0\n",
      "_________________________________________________________________\n"
     ]
    }
   ],
   "source": [
    "vgg.summary()"
   ]
  },
  {
   "cell_type": "code",
   "execution_count": 6,
   "metadata": {},
   "outputs": [],
   "source": [
    "import tensorflow.keras.backend as K"
   ]
  },
  {
   "cell_type": "code",
   "execution_count": 13,
   "metadata": {},
   "outputs": [],
   "source": [
    "n_epoch=20\n",
    "sgd = SGD(learning_rate=1e-5, decay=1e-6, momentum=0.9, nesterov=True)\n",
    "vgg.compile(loss='categorical_crossentropy', optimizer=sgd,metrics=[\"accuracy\"])\n",
    "get_layer_output= K.function([vgg.input], [vgg.layers[-2].output])\n",
    "\n"
   ]
  },
  {
   "cell_type": "code",
   "execution_count": 16,
   "metadata": {},
   "outputs": [
    {
     "data": {
      "text/plain": [
       "<KerasTensor: shape=(None, 224, 224, 3) dtype=float32 (created by layer 'input_1')>"
      ]
     },
     "execution_count": 16,
     "metadata": {},
     "output_type": "execute_result"
    }
   ],
   "source": [
    "vgg.input"
   ]
  },
  {
   "cell_type": "code",
   "execution_count": 17,
   "metadata": {},
   "outputs": [
    {
     "data": {
      "text/plain": [
       "<KerasTensor: shape=(None, 4096) dtype=float32 (created by layer 'fc2')>"
      ]
     },
     "execution_count": 17,
     "metadata": {},
     "output_type": "execute_result"
    }
   ],
   "source": [
    "vgg.layers[-2].output"
   ]
  },
  {
   "cell_type": "code",
   "execution_count": 74,
   "metadata": {},
   "outputs": [],
   "source": [
    "train_results = []\n",
    "train_classes = []\n",
    "val_results = []\n",
    "val_classes = []"
   ]
  },
  {
   "cell_type": "code",
   "execution_count": 75,
   "metadata": {},
   "outputs": [],
   "source": [
    "for i in range(len(X_train)):\n",
    "    train_results.append(get_layer_output(tf.expand_dims(X_train[i], 0, name=None))[0][0])\n",
    "    train_classes.append(y_train[i])"
   ]
  },
  {
   "cell_type": "code",
   "execution_count": 76,
   "metadata": {},
   "outputs": [],
   "source": [
    "for i in range(len(X_test)):\n",
    "    val_results.append(get_layer_output(tf.expand_dims(X_test[i], 0, name=None))[0][0])\n",
    "    val_classes.append(y_test[i])"
   ]
  },
  {
   "cell_type": "code",
   "execution_count": 77,
   "metadata": {},
   "outputs": [],
   "source": [
    "from sklearn.neighbors import KNeighborsClassifier"
   ]
  },
  {
   "cell_type": "code",
   "execution_count": 78,
   "metadata": {},
   "outputs": [
    {
     "data": {
      "text/plain": [
       "KNeighborsClassifier(n_neighbors=1)"
      ]
     },
     "execution_count": 78,
     "metadata": {},
     "output_type": "execute_result"
    }
   ],
   "source": [
    "neigh = KNeighborsClassifier(n_neighbors=1)\n",
    "neigh.fit(train_results,train_classes)"
   ]
  },
  {
   "cell_type": "code",
   "execution_count": 83,
   "metadata": {},
   "outputs": [
    {
     "name": "stdout",
     "output_type": "stream",
     "text": [
      "[[0. 0. 1. 0. 0. 0. 0. 0. 0. 0.]]\n",
      "[0. 0. 1. 0. 0. 0. 0. 0. 0. 0.]\n"
     ]
    }
   ],
   "source": [
    "print(neigh.predict([train_results[1]]))\n",
    "print(train_classes[1])"
   ]
  },
  {
   "cell_type": "code",
   "execution_count": 85,
   "metadata": {},
   "outputs": [
    {
     "data": {
      "text/plain": [
       "array([[0., 0., 1., 0., 0., 0., 0., 0., 0., 0.]], dtype=float32)"
      ]
     },
     "execution_count": 85,
     "metadata": {},
     "output_type": "execute_result"
    }
   ],
   "source": [
    "neigh.predict([train_results[1]])"
   ]
  },
  {
   "cell_type": "code",
   "execution_count": 87,
   "metadata": {},
   "outputs": [
    {
     "data": {
      "text/plain": [
       "array([[ True,  True,  True,  True,  True,  True,  True,  True,  True,\n",
       "         True]])"
      ]
     },
     "execution_count": 87,
     "metadata": {},
     "output_type": "execute_result"
    }
   ],
   "source": [
    "train_classes[1] == neigh.predict([train_results[1]])"
   ]
  },
  {
   "cell_type": "code",
   "execution_count": 88,
   "metadata": {},
   "outputs": [
    {
     "name": "stdout",
     "output_type": "stream",
     "text": [
      "0.9666666666666667\n"
     ]
    }
   ],
   "source": [
    "accuracy = 0\n",
    "for i in range(len(val_results)):\n",
    "    if (neigh.predict([val_results[i]])==val_classes[i]).all():\n",
    "        accuracy+=1\n",
    "\n",
    "print(accuracy/len(val_results))        "
   ]
  },
  {
   "cell_type": "markdown",
   "metadata": {},
   "source": [
    "## Évaluation : \n",
    "\n",
    "Exercice 1 : 30%\n",
    "    \n",
    "Exercice 2 : 30%\n",
    "    \n",
    "Exercice 3 : 40%"
   ]
  }
 ],
 "metadata": {
  "kernelspec": {
   "display_name": "Python 3",
   "language": "python",
   "name": "python3"
  },
  "language_info": {
   "codemirror_mode": {
    "name": "ipython",
    "version": 3
   },
   "file_extension": ".py",
   "mimetype": "text/x-python",
   "name": "python",
   "nbconvert_exporter": "python",
   "pygments_lexer": "ipython3",
   "version": "3.9.7"
  }
 },
 "nbformat": 4,
 "nbformat_minor": 2
}
